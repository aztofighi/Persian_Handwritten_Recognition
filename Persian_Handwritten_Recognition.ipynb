{
  "nbformat": 4,
  "nbformat_minor": 0,
  "metadata": {
    "colab": {
      "provenance": [],
      "include_colab_link": true
    },
    "kernelspec": {
      "name": "python3",
      "display_name": "Python 3"
    }
  },
  "cells": [
    {
      "cell_type": "markdown",
      "metadata": {
        "id": "view-in-github",
        "colab_type": "text"
      },
      "source": [
        "<a href=\"https://colab.research.google.com/github/aztofighi/Persian_Handwritten_Recognition/blob/main/Persian_Handwritten_Recognition.ipynb\" target=\"_parent\"><img src=\"https://colab.research.google.com/assets/colab-badge.svg\" alt=\"Open In Colab\"/></a>"
      ]
    },
    {
      "cell_type": "code",
      "source": [
        "!wget -q https://github.com/aztofighi/Persian_Handwritten_Recognition/raw/main/HodaDataset/Test_20000.cdb\n",
        "!wget -q https://github.com/aztofighi/Persian_Handwritten_Recognition/raw/main/HodaDataset/Train_60000.cdb"
      ],
      "metadata": {
        "id": "zYeaF3NA5AuR"
      },
      "execution_count": 2,
      "outputs": []
    },
    {
      "cell_type": "code",
      "metadata": {
        "id": "WRukxH9hwklc"
      },
      "source": [
        "from keras.datasets import mnist\n",
        "from keras.models import Sequential\n",
        "from keras.layers import Dense\n",
        "from keras.layers import Dropout\n",
        "from keras.utils import np_utils\n",
        "from sklearn.metrics import classification_report\n",
        "import matplotlib.pyplot as plt\n",
        "import tensorflow as tf\n",
        "import random\n",
        "import struct\n",
        "import numpy as np\n",
        "import cv2"
      ],
      "execution_count": 6,
      "outputs": []
    },
    {
      "cell_type": "code",
      "metadata": {
        "id": "46Gcw2gKwkil"
      },
      "source": [
        "# Get the Train and Test data\n",
        "TRAIN_PATH = 'Train_60000.cdb'\n",
        "TEST_PATH = 'Test_20000.cdb'"
      ],
      "execution_count": 7,
      "outputs": []
    },
    {
      "cell_type": "markdown",
      "source": [
        "# Image preprocessing"
      ],
      "metadata": {
        "id": "hKNrYXGP6Spo"
      }
    },
    {
      "cell_type": "code",
      "source": [
        "def __convert_to_one_hot(vector, num_classes):\n",
        "    result = np.zeros(shape=[len(vector), num_classes])\n",
        "    result[np.arange(len(vector)), vector] = 1\n",
        "    return result\n",
        "\n",
        "\n",
        "def __resize_image(src_image, dst_image_height, dst_image_width):\n",
        "    src_image_height = src_image.shape[0]\n",
        "    src_image_width = src_image.shape[1]\n",
        "\n",
        "    if src_image_height > dst_image_height or src_image_width > dst_image_width:\n",
        "        height_scale = dst_image_height / src_image_height\n",
        "        width_scale = dst_image_width / src_image_width\n",
        "        scale = min(height_scale, width_scale)\n",
        "        img = cv2.resize(src=src_image, dsize=(0, 0), fx=scale, fy=scale, interpolation=cv2.INTER_CUBIC)\n",
        "    else:\n",
        "        img = src_image\n",
        "\n",
        "    img_height = img.shape[0]\n",
        "    img_width = img.shape[1]\n",
        "\n",
        "    dst_image = np.zeros(shape=[dst_image_height, dst_image_width], dtype=np.uint8)\n",
        "\n",
        "    y_offset = (dst_image_height - img_height) // 2\n",
        "    x_offset = (dst_image_width - img_width) // 2\n",
        "\n",
        "    dst_image[y_offset:y_offset+img_height, x_offset:x_offset+img_width] = img\n",
        "\n",
        "    return dst_image\n",
        "\n",
        "\n",
        "def read_hoda_cdb(file_name):\n",
        "    with open(file_name, 'rb') as binary_file:\n",
        "\n",
        "        data = binary_file.read()\n",
        "\n",
        "        offset = 0\n",
        "\n",
        "        # read private header\n",
        "\n",
        "        yy = struct.unpack_from('H', data, offset)[0]\n",
        "        offset += 2\n",
        "\n",
        "        m = struct.unpack_from('B', data, offset)[0]\n",
        "        offset += 1\n",
        "\n",
        "        d = struct.unpack_from('B', data, offset)[0]\n",
        "        offset += 1\n",
        "\n",
        "        H = struct.unpack_from('B', data, offset)[0]\n",
        "        offset += 1\n",
        "\n",
        "        W = struct.unpack_from('B', data, offset)[0]\n",
        "        offset += 1\n",
        "\n",
        "        TotalRec = struct.unpack_from('I', data, offset)[0]\n",
        "        offset += 4\n",
        "\n",
        "        LetterCount = struct.unpack_from('128I', data, offset)\n",
        "        offset += 128 * 4\n",
        "\n",
        "        imgType = struct.unpack_from('B', data, offset)[0]  # 0: binary, 1: gray\n",
        "        offset += 1\n",
        "\n",
        "        Comments = struct.unpack_from('256c', data, offset)\n",
        "        offset += 256 * 1\n",
        "\n",
        "        Reserved = struct.unpack_from('245c', data, offset)\n",
        "        offset += 245 * 1\n",
        "\n",
        "        if (W > 0) and (H > 0):\n",
        "            normal = True\n",
        "        else:\n",
        "            normal = False\n",
        "\n",
        "        images = []\n",
        "        labels = []\n",
        "\n",
        "        for i in range(TotalRec):\n",
        "\n",
        "            StartByte = struct.unpack_from('B', data, offset)[0]  # must be 0xff\n",
        "            offset += 1\n",
        "\n",
        "            label = struct.unpack_from('B', data, offset)[0]\n",
        "            offset += 1\n",
        "\n",
        "            if not normal:\n",
        "                W = struct.unpack_from('B', data, offset)[0]\n",
        "                offset += 1\n",
        "\n",
        "                H = struct.unpack_from('B', data, offset)[0]\n",
        "                offset += 1\n",
        "\n",
        "            ByteCount = struct.unpack_from('H', data, offset)[0]\n",
        "            offset += 2\n",
        "\n",
        "            image = np.zeros(shape=[H, W], dtype=np.uint8)\n",
        "\n",
        "            if imgType == 0:\n",
        "                # Binary\n",
        "                for y in range(H):\n",
        "                    bWhite = True\n",
        "                    counter = 0\n",
        "                    while counter < W:\n",
        "                        WBcount = struct.unpack_from('B', data, offset)[0]\n",
        "                        offset += 1\n",
        "                        # x = 0\n",
        "                        # while x < WBcount:\n",
        "                        #     if bWhite:\n",
        "                        #         image[y, x + counter] = 0  # Background\n",
        "                        #     else:\n",
        "                        #         image[y, x + counter] = 255  # ForeGround\n",
        "                        #     x += 1\n",
        "                        if bWhite:\n",
        "                            image[y, counter:counter + WBcount] = 0  # Background\n",
        "                        else:\n",
        "                            image[y, counter:counter + WBcount] = 255  # ForeGround\n",
        "                        bWhite = not bWhite  # black white black white ...\n",
        "                        counter += WBcount\n",
        "            else:\n",
        "                # GrayScale mode\n",
        "                data = struct.unpack_from('{}B'.format(W * H), data, offset)\n",
        "                offset += W * H\n",
        "                image = np.asarray(data, dtype=np.uint8).reshape([W, H]).T\n",
        "\n",
        "            images.append(image)\n",
        "            labels.append(label)\n",
        "\n",
        "        return images, labels\n",
        "\n",
        "\n",
        "def read_hoda_dataset(dataset_path, images_height=32, images_width=32, one_hot=False, reshape=True):\n",
        "    images, labels = read_hoda_cdb(dataset_path)\n",
        "    assert len(images) == len(labels)\n",
        "\n",
        "    X = np.zeros(shape=[len(images), images_height, images_width], dtype=np.float32)\n",
        "    Y = np.zeros(shape=[len(labels)], dtype=int)\n",
        "\n",
        "    for i in range(len(images)):\n",
        "        image = images[i]\n",
        "        # Image resizing.\n",
        "        image = __resize_image(src_image=image, dst_image_height=images_height, dst_image_width=images_width)\n",
        "        # Image normalization.\n",
        "        image = image / 255\n",
        "        # Image binarization.\n",
        "        image = np.where(image >= 0.5, 1, 0)\n",
        "        # Image.\n",
        "        X[i] = image\n",
        "        # Label.\n",
        "        Y[i] = labels[i]\n",
        "\n",
        "    if one_hot:\n",
        "        Y = __convert_to_one_hot(Y, 10).astype(dtype=np.float32)\n",
        "    else:\n",
        "        Y = Y.astype(dtype=np.float32)\n",
        "\n",
        "    if reshape:\n",
        "        X = X.reshape(-1, images_height * images_width)\n",
        "    else:\n",
        "        X = X.reshape(-1, images_height, images_width, 1)\n",
        "\n",
        "    return X, Y\n"
      ],
      "metadata": {
        "id": "-g7nP5Xz6TTJ"
      },
      "execution_count": 10,
      "outputs": []
    },
    {
      "cell_type": "code",
      "metadata": {
        "colab": {
          "base_uri": "https://localhost:8080/"
        },
        "id": "W-YFRcUBwkcy",
        "outputId": "0e6b1ee3-4abe-4e92-f1c3-b4a919739f05"
      },
      "source": [
        "X_train, Y_train = read_hoda_dataset(dataset_path=TRAIN_PATH,\n",
        "                                    images_height=32,\n",
        "                                    images_width=32,\n",
        "                                    one_hot=False,\n",
        "                                    reshape=True)\n",
        "\n",
        "X_test, Y_test = read_hoda_dataset(dataset_path=TEST_PATH,\n",
        "                                  images_height=32,\n",
        "                                  images_width=32,\n",
        "                                  one_hot=False,\n",
        "                                  reshape=True)\n",
        "\n",
        "print(X_train.shape, Y_train.shape)\n",
        "print(X_test.shape, Y_test.shape)"
      ],
      "execution_count": 11,
      "outputs": [
        {
          "output_type": "stream",
          "name": "stdout",
          "text": [
            "(60000, 1024) (60000,)\n",
            "(20000, 1024) (20000,)\n"
          ]
        }
      ]
    },
    {
      "cell_type": "code",
      "metadata": {
        "colab": {
          "base_uri": "https://localhost:8080/",
          "height": 251
        },
        "id": "8zY4U57IwkZR",
        "outputId": "01a404b3-f933-4d0e-8f77-a5a11df88880"
      },
      "source": [
        "# Plot the Train and Test data\n",
        "img1 = plt.subplot(221)\n",
        "train_index = random.randint(0, len(X_train))\n",
        "test_index = random.randint(0, len(X_test))\n",
        "img1.set_title('Train')\n",
        "plt.imshow(X_train[train_index].reshape(32,32))\n",
        "img2 = plt.subplot(222)\n",
        "plt.imshow(X_train[test_index].reshape(32,32))\n",
        "img2.set_title('Test')\n",
        "\n",
        "plt.show()"
      ],
      "execution_count": 13,
      "outputs": [
        {
          "output_type": "display_data",
          "data": {
            "text/plain": [
              "<Figure size 640x480 with 2 Axes>"
            ],
            "image/png": "[encoded data removed]"
          },
          "metadata": {}
        }
      ]
    },
    {
      "cell_type": "code",
      "metadata": {
        "colab": {
          "base_uri": "https://localhost:8080/"
        },
        "id": "y6FekDqkwu2i",
        "outputId": "0c99fadf-2b8e-49a2-e962-1181cb73a8e9"
      },
      "source": [
        "# X_train = np.expand_dims(X_train, axis=2)\n",
        "# X_test = np.expand_dims(X_test, axis=2)\n",
        "\n",
        "# Normalize the Train and Test data\n",
        "X_train = X_train.astype('float32') / 255\n",
        "X_test = X_test.astype('float32') / 255\n",
        "\n",
        "# one hot encode outputs\n",
        "Y_train = np_utils.to_categorical(Y_train)\n",
        "Y_test = np_utils.to_categorical(Y_test)\n",
        "num_classes = Y_test.shape[1]\n",
        "print(X_train.shape, X_test.shape, Y_train.shape, Y_test.shape)"
      ],
      "execution_count": 14,
      "outputs": [
        {
          "output_type": "stream",
          "name": "stdout",
          "text": [
            "(60000, 1024) (20000, 1024) (60000, 10) (20000, 10)\n"
          ]
        }
      ]
    },
    {
      "cell_type": "code",
      "metadata": {
        "id": "WrSJexeswkJS"
      },
      "source": [
        "def recall_m(y_true, y_pred):\n",
        "    K = tf.keras.backend\n",
        "    true_positives = K.sum(K.round(K.clip(y_true * y_pred, 0, 1)))\n",
        "    possible_positives = K.sum(K.round(K.clip(y_true, 0, 1)))\n",
        "    recall = true_positives / (possible_positives + K.epsilon())\n",
        "    return recall\n",
        "\n",
        "def precision_m(y_true, y_pred):\n",
        "    K = tf.keras.backend\n",
        "    true_positives = K.sum(K.round(K.clip(y_true * y_pred, 0, 1)))\n",
        "    predicted_positives = K.sum(K.round(K.clip(y_pred, 0, 1)))\n",
        "    precision = true_positives / (predicted_positives + K.epsilon())\n",
        "    return precision\n",
        "\n",
        "def f1_m(y_true, y_pred):\n",
        "    K = tf.keras.backend\n",
        "    precision = precision_m(y_true, y_pred)\n",
        "    recall = recall_m(y_true, y_pred)\n",
        "    return 2*((precision*recall)/(precision+recall+K.epsilon()))"
      ],
      "execution_count": 15,
      "outputs": []
    },
    {
      "cell_type": "code",
      "metadata": {
        "id": "4BCII-W0wuzn"
      },
      "source": [
        "# Build model\n",
        "def build_model():\n",
        "  model = Sequential()\n",
        "  model.add(Dense(100, input_shape=(32 * 32,), activation='relu'))\n",
        "  model.add(Dropout(0.02))\n",
        "  model.add(Dense(400, activation='relu'))\n",
        "  model.add(Dense(num_classes, activation='sigmoid'))\n",
        "  return model"
      ],
      "execution_count": 16,
      "outputs": []
    },
    {
      "cell_type": "code",
      "metadata": {
        "colab": {
          "base_uri": "https://localhost:8080/"
        },
        "id": "PzudS-f_wuqZ",
        "outputId": "2b462655-9ee8-4803-99fa-f5191125c12f"
      },
      "source": [
        "model = build_model()\n",
        "# Compile\n",
        "model.compile(loss='categorical_crossentropy', optimizer='adam', metrics=['accuracy', f1_m, precision_m, recall_m])\n",
        "\n",
        "# Fit the model\n",
        "history = model.fit(X_train, Y_train, validation_data=(X_test, Y_test), epochs=10, batch_size=200)"
      ],
      "execution_count": 17,
      "outputs": [
        {
          "output_type": "stream",
          "name": "stdout",
          "text": [
            "Epoch 1/10\n",
            "300/300 [==============================] - 5s 13ms/step - loss: 0.8786 - accuracy: 0.7879 - f1_m: 0.3871 - precision_m: 0.2423 - recall_m: 0.9706 - val_loss: 0.4748 - val_accuracy: 0.8439 - val_f1_m: 0.4443 - val_precision_m: 0.2892 - val_recall_m: 0.9810\n",
            "Epoch 2/10\n",
            "300/300 [==============================] - 3s 11ms/step - loss: 0.2375 - accuracy: 0.9318 - f1_m: 0.4409 - precision_m: 0.2835 - recall_m: 0.9926 - val_loss: 0.3636 - val_accuracy: 0.8862 - val_f1_m: 0.4539 - val_precision_m: 0.2981 - val_recall_m: 0.9861\n",
            "Epoch 3/10\n",
            "300/300 [==============================] - 5s 15ms/step - loss: 0.1871 - accuracy: 0.9468 - f1_m: 0.4436 - precision_m: 0.2856 - recall_m: 0.9940 - val_loss: 0.3254 - val_accuracy: 0.9016 - val_f1_m: 0.4598 - val_precision_m: 0.3034 - val_recall_m: 0.9883\n",
            "Epoch 4/10\n",
            "300/300 [==============================] - 3s 11ms/step - loss: 0.1609 - accuracy: 0.9543 - f1_m: 0.4493 - precision_m: 0.2902 - recall_m: 0.9950 - val_loss: 0.2890 - val_accuracy: 0.9129 - val_f1_m: 0.4640 - val_precision_m: 0.3077 - val_recall_m: 0.9897\n",
            "Epoch 5/10\n",
            "300/300 [==============================] - 3s 11ms/step - loss: 0.1405 - accuracy: 0.9602 - f1_m: 0.4570 - precision_m: 0.2966 - recall_m: 0.9956 - val_loss: 0.2661 - val_accuracy: 0.9210 - val_f1_m: 0.4748 - val_precision_m: 0.3161 - val_recall_m: 0.9904\n",
            "Epoch 6/10\n",
            "300/300 [==============================] - 4s 12ms/step - loss: 0.1244 - accuracy: 0.9653 - f1_m: 0.4666 - precision_m: 0.3046 - recall_m: 0.9964 - val_loss: 0.2361 - val_accuracy: 0.9319 - val_f1_m: 0.4904 - val_precision_m: 0.3325 - val_recall_m: 0.9912\n",
            "Epoch 7/10\n",
            "300/300 [==============================] - 4s 14ms/step - loss: 0.1119 - accuracy: 0.9684 - f1_m: 0.4777 - precision_m: 0.3142 - recall_m: 0.9968 - val_loss: 0.2137 - val_accuracy: 0.9379 - val_f1_m: 0.4996 - val_precision_m: 0.3398 - val_recall_m: 0.9920\n",
            "Epoch 8/10\n",
            "300/300 [==============================] - 3s 11ms/step - loss: 0.1002 - accuracy: 0.9718 - f1_m: 0.4918 - precision_m: 0.3264 - recall_m: 0.9972 - val_loss: 0.2045 - val_accuracy: 0.9409 - val_f1_m: 0.5078 - val_precision_m: 0.3475 - val_recall_m: 0.9928\n",
            "Epoch 9/10\n",
            "300/300 [==============================] - 3s 11ms/step - loss: 0.0905 - accuracy: 0.9739 - f1_m: 0.5036 - precision_m: 0.3369 - recall_m: 0.9974 - val_loss: 0.1828 - val_accuracy: 0.9468 - val_f1_m: 0.5310 - val_precision_m: 0.3707 - val_recall_m: 0.9933\n",
            "Epoch 10/10\n",
            "300/300 [==============================] - 4s 14ms/step - loss: 0.0815 - accuracy: 0.9765 - f1_m: 0.5157 - precision_m: 0.3477 - recall_m: 0.9979 - val_loss: 0.1723 - val_accuracy: 0.9499 - val_f1_m: 0.5363 - val_precision_m: 0.3760 - val_recall_m: 0.9937\n"
          ]
        }
      ]
    },
    {
      "cell_type": "code",
      "metadata": {
        "colab": {
          "base_uri": "https://localhost:8080/"
        },
        "id": "SkiZsKATcdzV",
        "outputId": "c2fde900-0cc1-4eb4-b38e-474b700f85a6"
      },
      "source": [
        "# Final evaluation of the model\n",
        "train_eval = model.evaluate(X_train, Y_train, batch_size=200)\n",
        "test_eval = model.evaluate(X_test, Y_test, batch_size=200)\n",
        "print(\"Train eval : \", train_eval)\n",
        "print(\"Test eval : \", test_eval)"
      ],
      "execution_count": 18,
      "outputs": [
        {
          "output_type": "stream",
          "name": "stdout",
          "text": [
            "300/300 [==============================] - 1s 4ms/step - loss: 0.0722 - accuracy: 0.9797 - f1_m: 0.5236 - precision_m: 0.3550 - recall_m: 0.9980\n",
            "100/100 [==============================] - 0s 4ms/step - loss: 0.1723 - accuracy: 0.9499 - f1_m: 0.5363 - precision_m: 0.3760 - recall_m: 0.9937\n",
            "Train eval :  [0.07219744473695755, 0.9797166585922241, 0.523577868938446, 0.35495057702064514, 0.9979662299156189]\n",
            "Test eval :  [0.1722692996263504, 0.9499499797821045, 0.5362808108329773, 0.3760216236114502, 0.9937002062797546]\n"
          ]
        }
      ]
    },
    {
      "cell_type": "code",
      "metadata": {
        "id": "A7Lx92zxks53",
        "colab": {
          "base_uri": "https://localhost:8080/",
          "height": 452
        },
        "outputId": "c3c6e3c4-b094-461e-ae33-6870e4583030"
      },
      "source": [
        "# Plot loss during training\n",
        "plt.subplot(211)\n",
        "plt.title('Loss')\n",
        "plt.plot(history.history['loss'], label='train')\n",
        "plt.legend()\n",
        "\n",
        "# Plot accuracy during training\n",
        "plt.subplot(212)\n",
        "plt.title('Accuracy')\n",
        "plt.plot(history.history['accuracy'], label='train')\n",
        "plt.legend()\n",
        "\n",
        "plt.show()\n"
      ],
      "execution_count": 19,
      "outputs": [
        {
          "output_type": "display_data",
          "data": {
            "text/plain": [
              "<Figure size 640x480 with 2 Axes>"
            ],
            "image/png": "[encoded data removed]"
          },
          "metadata": {}
        }
      ]
    },
    {
      "cell_type": "code",
      "metadata": {
        "colab": {
          "base_uri": "https://localhost:8080/"
        },
        "id": "y3tvPPlzxSVD",
        "outputId": "723e0419-5944-4462-c44e-f0a9b8a6ce74"
      },
      "source": [
        "Y_pred = model.predict(X_test, batch_size=200, verbose=1)\n",
        "print(Y_pred)\n",
        "print(Y_test)\n",
        "Y_pred_bool = np.argmax(Y_pred, axis=1)"
      ],
      "execution_count": 20,
      "outputs": [
        {
          "output_type": "stream",
          "name": "stdout",
          "text": [
            "100/100 [==============================] - 1s 6ms/step\n",
            "[[9.9910909e-01 8.9471182e-03 1.1666096e-03 ... 4.4880271e-01\n",
            "  2.0538397e-01 5.4311422e-03]\n",
            " [9.9900270e-01 2.1941621e-02 2.0273455e-04 ... 4.6726951e-01\n",
            "  7.7924109e-01 1.1055029e-03]\n",
            " [9.5232773e-01 7.7771908e-01 8.2198523e-05 ... 5.4618406e-01\n",
            "  9.9680461e-02 3.5575125e-03]\n",
            " ...\n",
            " [1.9347075e-02 9.5529550e-01 2.4813130e-01 ... 3.7790285e-04\n",
            "  6.5871594e-03 6.2460345e-01]\n",
            " [2.5832905e-03 3.0734874e-03 4.8031986e-02 ... 5.9865323e-07\n",
            "  6.0642922e-01 9.9995285e-01]\n",
            " [1.5350881e-04 6.6698391e-05 6.2959260e-01 ... 7.0168062e-09\n",
            "  1.3786593e-01 9.9999845e-01]]\n",
            "[[1. 0. 0. ... 0. 0. 0.]\n",
            " [1. 0. 0. ... 0. 0. 0.]\n",
            " [1. 0. 0. ... 0. 0. 0.]\n",
            " ...\n",
            " [0. 0. 0. ... 0. 0. 1.]\n",
            " [0. 0. 0. ... 0. 0. 1.]\n",
            " [0. 0. 0. ... 0. 0. 1.]]\n"
          ]
        }
      ]
    },
    {
      "cell_type": "code",
      "metadata": {
        "colab": {
          "base_uri": "https://localhost:8080/"
        },
        "id": "f5Ch-xrcskOz",
        "outputId": "ed7ae5c9-b467-4513-ff96-3840f93b173a"
      },
      "source": [
        "from sklearn.metrics import classification_report, confusion_matrix\n",
        "\n",
        "y_pred = np.argmax(Y_pred, axis=1)\n",
        "y_true = np.argmax(Y_test, axis=1)\n",
        "\n",
        "print('Confusion Matrix')\n",
        "print(confusion_matrix(y_true, y_pred))\n",
        "print('Classification Report')\n",
        "target_names = ['0', '1', '2', '3', '4', '5', '6', '7', '8', '9']\n",
        "print(classification_report(y_true, y_pred, target_names=target_names))"
      ],
      "execution_count": 21,
      "outputs": [
        {
          "output_type": "stream",
          "name": "stdout",
          "text": [
            "Confusion Matrix\n",
            "[[1967    0    0    0    6   19    3    4    1    0]\n",
            " [   4 1969   10    0    3    0    7    3    1    3]\n",
            " [   2   30 1843   58   30    0   20    3    1   13]\n",
            " [   5    0   88 1819   76    0    6    4    0    2]\n",
            " [   3    6   19   86 1838   14   12    2    2   18]\n",
            " [   3    6    1    2   16 1954    3    8    7    0]\n",
            " [   2   13   22    6   18    5 1873    8    5   48]\n",
            " [   9    7   20    4   11   13   20 1915    1    0]\n",
            " [   6    3    3    1   15   10   14    0 1920   28]\n",
            " [   2   29    5    3   11    2   33    0   14 1901]]\n",
            "Classification Report\n",
            "              precision    recall  f1-score   support\n",
            "\n",
            "           0       0.98      0.98      0.98      2000\n",
            "           1       0.95      0.98      0.97      2000\n",
            "           2       0.92      0.92      0.92      2000\n",
            "           3       0.92      0.91      0.91      2000\n",
            "           4       0.91      0.92      0.91      2000\n",
            "           5       0.97      0.98      0.97      2000\n",
            "           6       0.94      0.94      0.94      2000\n",
            "           7       0.98      0.96      0.97      2000\n",
            "           8       0.98      0.96      0.97      2000\n",
            "           9       0.94      0.95      0.95      2000\n",
            "\n",
            "    accuracy                           0.95     20000\n",
            "   macro avg       0.95      0.95      0.95     20000\n",
            "weighted avg       0.95      0.95      0.95     20000\n",
            "\n"
          ]
        }
      ]
    }
  ]
}