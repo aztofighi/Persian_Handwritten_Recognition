{
  "nbformat": 4,
  "nbformat_minor": 0,
  "metadata": {
    "colab": {
      "provenance": [],
      "include_colab_link": true
    },
    "kernelspec": {
      "name": "python3",
      "display_name": "Python 3"
    }
  },
  "cells": [
    {
      "cell_type": "markdown",
      "metadata": {
        "id": "view-in-github",
        "colab_type": "text"
      },
      "source": [
        "<a href=\"https://colab.research.google.com/github/aztofighi/Persian_Handwritten_Recognition/blob/main/Persian_Handwritten_Recognition.ipynb\" target=\"_parent\"><img src=\"https://colab.research.google.com/assets/colab-badge.svg\" alt=\"Open In Colab\"/></a>"
      ]
    },
    {
      "cell_type": "code",
      "source": [
        "!wget -q https://github.com/aztofighi/Persian_Handwritten_Recognition/raw/main/Hoda_Dataset/Test_20000.cdb\n",
        "!wget -q https://github.com/aztofighi/Persian_Handwritten_Recognition/raw/main/Hoda_Dataset/Train_60000.cdb"
      ],
      "metadata": {
        "id": "zYeaF3NA5AuR"
      },
      "execution_count": 1,
      "outputs": []
    },
    {
      "cell_type": "code",
      "metadata": {
        "id": "WRukxH9hwklc"
      },
      "source": [
        "from keras.datasets import mnist\n",
        "from keras.models import Sequential\n",
        "from keras.layers import Dense\n",
        "from keras.layers import Dropout\n",
        "from keras.utils import np_utils\n",
        "from sklearn.metrics import classification_report\n",
        "import matplotlib.pyplot as plt\n",
        "import matplotlib.cm as cm\n",
        "import matplotlib.image as image\n",
        "import urllib.request\n",
        "\n",
        "import tensorflow as tf\n",
        "import random\n",
        "import struct\n",
        "import numpy as np\n",
        "import cv2\n",
        "\n"
      ],
      "execution_count": 1,
      "outputs": []
    },
    {
      "cell_type": "code",
      "metadata": {
        "id": "46Gcw2gKwkil"
      },
      "source": [
        "# Get the Train and Test data\n",
        "TRAIN_PATH = 'Train_60000.cdb'\n",
        "TEST_PATH = 'Test_20000.cdb'\n",
        "dataset_url = 'https://github.com/aztofighi/Persian_Handwritten_Recognition/raw/main/Hoda_Dataset/'\n",
        "for i in [TRAIN_PATH,TEST_PATH]:\n",
        "  urllib.request.urlretrieve(dataset_url+i, i)"
      ],
      "execution_count": 2,
      "outputs": []
    },
    {
      "cell_type": "markdown",
      "source": [
        "# Image preprocessing"
      ],
      "metadata": {
        "id": "hKNrYXGP6Spo"
      }
    },
    {
      "cell_type": "code",
      "source": [
        "def __convert_to_one_hot(vector, num_classes):\n",
        "    result = np.zeros(shape=[len(vector), num_classes])\n",
        "    result[np.arange(len(vector)), vector] = 1\n",
        "    return result\n",
        "\n",
        "\n",
        "def __resize_image(src_image, dst_image_height, dst_image_width):\n",
        "    src_image_height = src_image.shape[0]\n",
        "    src_image_width = src_image.shape[1]\n",
        "\n",
        "    if src_image_height > dst_image_height or src_image_width > dst_image_width:\n",
        "        height_scale = dst_image_height / src_image_height\n",
        "        width_scale = dst_image_width / src_image_width\n",
        "        scale = min(height_scale, width_scale)\n",
        "        img = cv2.resize(src=src_image, dsize=(0, 0), fx=scale, fy=scale, interpolation=cv2.INTER_CUBIC)\n",
        "    else:\n",
        "        img = src_image\n",
        "\n",
        "    img_height = img.shape[0]\n",
        "    img_width = img.shape[1]\n",
        "\n",
        "    dst_image = np.zeros(shape=[dst_image_height, dst_image_width], dtype=np.uint8)\n",
        "\n",
        "    y_offset = (dst_image_height - img_height) // 2\n",
        "    x_offset = (dst_image_width - img_width) // 2\n",
        "\n",
        "    dst_image[y_offset:y_offset+img_height, x_offset:x_offset+img_width] = img\n",
        "\n",
        "    return dst_image\n",
        "\n",
        "\n",
        "def read_hoda_cdb(file_name):\n",
        "    with open(file_name, 'rb') as binary_file:\n",
        "\n",
        "        data = binary_file.read()\n",
        "\n",
        "        offset = 0\n",
        "\n",
        "        # read private header\n",
        "\n",
        "        yy = struct.unpack_from('H', data, offset)[0]\n",
        "        offset += 2\n",
        "\n",
        "        m = struct.unpack_from('B', data, offset)[0]\n",
        "        offset += 1\n",
        "\n",
        "        d = struct.unpack_from('B', data, offset)[0]\n",
        "        offset += 1\n",
        "\n",
        "        H = struct.unpack_from('B', data, offset)[0]\n",
        "        offset += 1\n",
        "\n",
        "        W = struct.unpack_from('B', data, offset)[0]\n",
        "        offset += 1\n",
        "\n",
        "        TotalRec = struct.unpack_from('I', data, offset)[0]\n",
        "        offset += 4\n",
        "\n",
        "        LetterCount = struct.unpack_from('128I', data, offset)\n",
        "        offset += 128 * 4\n",
        "\n",
        "        imgType = struct.unpack_from('B', data, offset)[0]  # 0: binary, 1: gray\n",
        "        offset += 1\n",
        "\n",
        "        Comments = struct.unpack_from('256c', data, offset)\n",
        "        offset += 256 * 1\n",
        "\n",
        "        Reserved = struct.unpack_from('245c', data, offset)\n",
        "        offset += 245 * 1\n",
        "\n",
        "        if (W > 0) and (H > 0):\n",
        "            normal = True\n",
        "        else:\n",
        "            normal = False\n",
        "\n",
        "        images = []\n",
        "        labels = []\n",
        "\n",
        "        for i in range(TotalRec):\n",
        "\n",
        "            StartByte = struct.unpack_from('B', data, offset)[0]  # must be 0xff\n",
        "            offset += 1\n",
        "\n",
        "            label = struct.unpack_from('B', data, offset)[0]\n",
        "            offset += 1\n",
        "\n",
        "            if not normal:\n",
        "                W = struct.unpack_from('B', data, offset)[0]\n",
        "                offset += 1\n",
        "\n",
        "                H = struct.unpack_from('B', data, offset)[0]\n",
        "                offset += 1\n",
        "\n",
        "            ByteCount = struct.unpack_from('H', data, offset)[0]\n",
        "            offset += 2\n",
        "\n",
        "            image = np.zeros(shape=[H, W], dtype=np.uint8)\n",
        "\n",
        "            if imgType == 0:\n",
        "                # Binary\n",
        "                for y in range(H):\n",
        "                    bWhite = True\n",
        "                    counter = 0\n",
        "                    while counter < W:\n",
        "                        WBcount = struct.unpack_from('B', data, offset)[0]\n",
        "                        offset += 1\n",
        "                        # x = 0\n",
        "                        # while x < WBcount:\n",
        "                        #     if bWhite:\n",
        "                        #         image[y, x + counter] = 0  # Background\n",
        "                        #     else:\n",
        "                        #         image[y, x + counter] = 255  # ForeGround\n",
        "                        #     x += 1\n",
        "                        if bWhite:\n",
        "                            image[y, counter:counter + WBcount] = 0  # Background\n",
        "                        else:\n",
        "                            image[y, counter:counter + WBcount] = 255  # ForeGround\n",
        "                        bWhite = not bWhite  # black white black white ...\n",
        "                        counter += WBcount\n",
        "            else:\n",
        "                # GrayScale mode\n",
        "                data = struct.unpack_from('{}B'.format(W * H), data, offset)\n",
        "                offset += W * H\n",
        "                image = np.asarray(data, dtype=np.uint8).reshape([W, H]).T\n",
        "\n",
        "            images.append(image)\n",
        "            labels.append(label)\n",
        "\n",
        "        return images, labels\n",
        "\n",
        "\n",
        "def read_hoda_dataset(dataset_path, images_height=32, images_width=32, one_hot=False, reshape=True):\n",
        "    images, labels = read_hoda_cdb(dataset_path)\n",
        "    assert len(images) == len(labels)\n",
        "\n",
        "    X = np.zeros(shape=[len(images), images_height, images_width], dtype=np.float32)\n",
        "    Y = np.zeros(shape=[len(labels)], dtype=int)\n",
        "\n",
        "    #cnt=0\n",
        "\n",
        "    for i in range(len(images)):\n",
        "        image = images[i]\n",
        "        # Image resizing.\n",
        "        image = __resize_image(src_image=image, dst_image_height=images_height, dst_image_width=images_width)\n",
        "        # Image normalization.\n",
        "        image = image / 255\n",
        "        # Image binarization.\n",
        "        image = np.where(image >= 0.5, 1, 0)\n",
        "        # Image.\n",
        "        X[i] = image\n",
        "        # Label.\n",
        "        Y[i] = labels[i]\n",
        "        #print(type(image))\n",
        "        #print(image.shape)\n",
        "        \n",
        "        #cnt+=1\n",
        "        #plt.imsave('img_'+str(Y[i])+'_'+str(cnt)+'.png', np.array(image).reshape(32,32), cmap=cm.gray)\n",
        "\n",
        "    if one_hot:\n",
        "        Y = __convert_to_one_hot(Y, 10).astype(dtype=np.float32)\n",
        "    else:\n",
        "        Y = Y.astype(dtype=np.float32)\n",
        "\n",
        "    if reshape:\n",
        "        X = X.reshape(-1, images_height * images_width)\n",
        "    else:\n",
        "        X = X.reshape(-1, images_height, images_width, 1)\n",
        "\n",
        "    return X, Y\n"
      ],
      "metadata": {
        "id": "-g7nP5Xz6TTJ"
      },
      "execution_count": 3,
      "outputs": []
    },
    {
      "cell_type": "code",
      "metadata": {
        "colab": {
          "base_uri": "https://localhost:8080/"
        },
        "id": "W-YFRcUBwkcy",
        "outputId": "ff4a5752-fd43-46fb-c3a2-5d2a2f3d3126"
      },
      "source": [
        "X_train, Y_train = read_hoda_dataset(dataset_path=TRAIN_PATH,\n",
        "                                    images_height=32,\n",
        "                                    images_width=32,\n",
        "                                    one_hot=False,\n",
        "                                    reshape=True)\n",
        "\n",
        "\n",
        "\n",
        "print(X_train.shape, Y_train.shape)\n"
      ],
      "execution_count": 4,
      "outputs": [
        {
          "output_type": "stream",
          "name": "stdout",
          "text": [
            "(60000, 1024) (60000,)\n"
          ]
        }
      ]
    },
    {
      "cell_type": "code",
      "source": [
        "X_test, Y_test = read_hoda_dataset(dataset_path=TEST_PATH,\n",
        "                                  images_height=32,\n",
        "                                  images_width=32,\n",
        "                                  one_hot=False,\n",
        "                                  reshape=True)\n",
        "print(X_test.shape, Y_test.shape)"
      ],
      "metadata": {
        "colab": {
          "base_uri": "https://localhost:8080/"
        },
        "id": "foaN2sf0fdUf",
        "outputId": "efdcd06e-ab0b-404c-b9a7-dfc6e80662b7"
      },
      "execution_count": 5,
      "outputs": [
        {
          "output_type": "stream",
          "name": "stdout",
          "text": [
            "(20000, 1024) (20000,)\n"
          ]
        }
      ]
    },
    {
      "cell_type": "code",
      "metadata": {
        "colab": {
          "base_uri": "https://localhost:8080/",
          "height": 251
        },
        "id": "8zY4U57IwkZR",
        "outputId": "1e21298a-edb5-4f2e-8ca8-5599552064b8"
      },
      "source": [
        "# Plot the Train and Test data\n",
        "img1 = plt.subplot(221)\n",
        "train_index = random.randint(0, len(X_train))\n",
        "test_index = random.randint(0, len(X_test))\n",
        "img1.set_title('Train')\n",
        "plt.imshow(X_train[train_index].reshape(32,32))\n",
        "img2 = plt.subplot(222)\n",
        "plt.imshow(X_test[test_index].reshape(32,32))\n",
        "img2.set_title('Test')\n",
        "\n",
        "plt.show()"
      ],
      "execution_count": 6,
      "outputs": [
        {
          "output_type": "display_data",
          "data": {
            "text/plain": [
              "<Figure size 640x480 with 2 Axes>"
            ],
            "image/png": "[encoded data removed]"
          },
          "metadata": {}
        }
      ]
    },
    {
      "cell_type": "code",
      "metadata": {
        "colab": {
          "base_uri": "https://localhost:8080/"
        },
        "id": "y6FekDqkwu2i",
        "outputId": "c4c8d902-4852-4541-9014-070104507cf3"
      },
      "source": [
        "# X_train = np.expand_dims(X_train, axis=2)\n",
        "# X_test = np.expand_dims(X_test, axis=2)\n",
        "\n",
        "# Normalize the Train and Test data\n",
        "X_train = X_train.astype('float32') / 255\n",
        "X_test = X_test.astype('float32') / 255\n",
        "\n",
        "# one hot encode outputs\n",
        "Y_train = np_utils.to_categorical(Y_train)\n",
        "Y_test = np_utils.to_categorical(Y_test)\n",
        "num_classes = Y_test.shape[1]\n",
        "print(X_train.shape, X_test.shape, Y_train.shape, Y_test.shape)"
      ],
      "execution_count": 7,
      "outputs": [
        {
          "output_type": "stream",
          "name": "stdout",
          "text": [
            "(60000, 1024) (20000, 1024) (60000, 10) (20000, 10)\n"
          ]
        }
      ]
    },
    {
      "cell_type": "code",
      "metadata": {
        "id": "4BCII-W0wuzn"
      },
      "source": [
        "# Build model\n",
        "def build_model():\n",
        "  model = Sequential()\n",
        "  model.add(Dense(100, input_shape=(32 * 32,), activation='relu'))\n",
        "  model.add(Dropout(0.02))\n",
        "  model.add(Dense(400, activation='relu'))\n",
        "  model.add(Dense(num_classes, activation='sigmoid'))\n",
        "  return model"
      ],
      "execution_count": 9,
      "outputs": []
    },
    {
      "cell_type": "code",
      "source": [
        "def recall_m(y_true, y_pred):\n",
        "    K = tf.keras.backend\n",
        "    true_positives = K.sum(K.round(K.clip(y_true * y_pred, 0, 1)))\n",
        "    possible_positives = K.sum(K.round(K.clip(y_true, 0, 1)))\n",
        "    recall = true_positives / (possible_positives + K.epsilon())\n",
        "    return recall\n",
        "\n",
        "def precision_m(y_true, y_pred):\n",
        "    K = tf.keras.backend\n",
        "    true_positives = K.sum(K.round(K.clip(y_true * y_pred, 0, 1)))\n",
        "    predicted_positives = K.sum(K.round(K.clip(y_pred, 0, 1)))\n",
        "    precision = true_positives / (predicted_positives + K.epsilon())\n",
        "    return precision\n",
        "\n",
        "def f1_m(y_true, y_pred):\n",
        "    K = tf.keras.backend\n",
        "    precision = precision_m(y_true, y_pred)\n",
        "    recall = recall_m(y_true, y_pred)\n",
        "    return 2*((precision*recall)/(precision+recall+K.epsilon()))\n"
      ],
      "metadata": {
        "id": "UtWhOXABshPh"
      },
      "execution_count": 10,
      "outputs": []
    },
    {
      "cell_type": "code",
      "metadata": {
        "colab": {
          "base_uri": "https://localhost:8080/"
        },
        "id": "PzudS-f_wuqZ",
        "outputId": "10a20f3a-5209-479b-aaea-962b62a147ee"
      },
      "source": [
        "model = build_model()\n",
        "# Compile\n",
        "model.compile(loss='categorical_crossentropy', optimizer='adam', metrics=['accuracy'])\n",
        "\n",
        "# Fit the model\n",
        "history = model.fit(X_train, Y_train, validation_data=(X_test, Y_test), epochs=10, batch_size=200)"
      ],
      "execution_count": 17,
      "outputs": [
        {
          "output_type": "stream",
          "name": "stdout",
          "text": [
            "Epoch 1/10\n",
            "300/300 [==============================] - 3s 7ms/step - loss: 0.8884 - accuracy: 0.7749 - val_loss: 0.4912 - val_accuracy: 0.8418\n",
            "Epoch 2/10\n",
            "300/300 [==============================] - 2s 7ms/step - loss: 0.2427 - accuracy: 0.9300 - val_loss: 0.3734 - val_accuracy: 0.8837\n",
            "Epoch 3/10\n",
            "300/300 [==============================] - 2s 7ms/step - loss: 0.1861 - accuracy: 0.9468 - val_loss: 0.3133 - val_accuracy: 0.9060\n",
            "Epoch 4/10\n",
            "300/300 [==============================] - 2s 8ms/step - loss: 0.1574 - accuracy: 0.9559 - val_loss: 0.2807 - val_accuracy: 0.9174\n",
            "Epoch 5/10\n",
            "300/300 [==============================] - 2s 8ms/step - loss: 0.1373 - accuracy: 0.9612 - val_loss: 0.2591 - val_accuracy: 0.9252\n",
            "Epoch 6/10\n",
            "300/300 [==============================] - 2s 7ms/step - loss: 0.1238 - accuracy: 0.9650 - val_loss: 0.2293 - val_accuracy: 0.9341\n",
            "Epoch 7/10\n",
            "300/300 [==============================] - 2s 6ms/step - loss: 0.1102 - accuracy: 0.9692 - val_loss: 0.2165 - val_accuracy: 0.9374\n",
            "Epoch 8/10\n",
            "300/300 [==============================] - 2s 8ms/step - loss: 0.1002 - accuracy: 0.9717 - val_loss: 0.2046 - val_accuracy: 0.9402\n",
            "Epoch 9/10\n",
            "300/300 [==============================] - 2s 7ms/step - loss: 0.0919 - accuracy: 0.9738 - val_loss: 0.1890 - val_accuracy: 0.9434\n",
            "Epoch 10/10\n",
            "300/300 [==============================] - 2s 7ms/step - loss: 0.0834 - accuracy: 0.9768 - val_loss: 0.1765 - val_accuracy: 0.9494\n"
          ]
        }
      ]
    },
    {
      "cell_type": "code",
      "metadata": {
        "colab": {
          "base_uri": "https://localhost:8080/"
        },
        "id": "SkiZsKATcdzV",
        "outputId": "d188d5ea-977d-4bee-fb25-b0ee09fc9113"
      },
      "source": [
        "# Final evaluation of the model\n",
        "train_eval = model.evaluate(X_train, Y_train, batch_size=200)\n",
        "test_eval = model.evaluate(X_test, Y_test, batch_size=200)\n",
        "print(\"Train eval : \", train_eval)\n",
        "print(\"Test eval : \", test_eval)\n",
        "model.save(\"hoda.h5\")"
      ],
      "execution_count": 18,
      "outputs": [
        {
          "output_type": "stream",
          "name": "stdout",
          "text": [
            "300/300 [==============================] - 1s 2ms/step - loss: 0.0730 - accuracy: 0.9797\n",
            "100/100 [==============================] - 0s 2ms/step - loss: 0.1765 - accuracy: 0.9494\n",
            "Train eval :  [0.07298439741134644, 0.9797333478927612]\n",
            "Test eval :  [0.17647260427474976, 0.949400007724762]\n"
          ]
        }
      ]
    },
    {
      "cell_type": "code",
      "metadata": {
        "id": "A7Lx92zxks53",
        "colab": {
          "base_uri": "https://localhost:8080/",
          "height": 452
        },
        "outputId": "defff6a0-c4cd-457d-a5b7-592f45cf41e0"
      },
      "source": [
        "# Plot loss during training\n",
        "plt.subplot(211)\n",
        "plt.title('Loss')\n",
        "plt.plot(history.history['loss'], label='train')\n",
        "plt.legend()\n",
        "\n",
        "# Plot accuracy during training\n",
        "plt.subplot(212)\n",
        "plt.title('Accuracy')\n",
        "plt.plot(history.history['accuracy'], label='train')\n",
        "plt.legend()\n",
        "\n",
        "plt.show()\n"
      ],
      "execution_count": 19,
      "outputs": [
        {
          "output_type": "display_data",
          "data": {
            "text/plain": [
              "<Figure size 640x480 with 2 Axes>"
            ],
            "image/png": "[encoded data removed]"
          },
          "metadata": {}
        }
      ]
    },
    {
      "cell_type": "code",
      "metadata": {
        "colab": {
          "base_uri": "https://localhost:8080/"
        },
        "id": "y3tvPPlzxSVD",
        "outputId": "afbe4d28-f345-48b8-b8b3-16496bb24c73"
      },
      "source": [
        "Y_pred = model.predict(X_test, batch_size=200, verbose=1)\n",
        "print(Y_pred)\n",
        "print(Y_test)\n",
        "Y_pred_bool = np.argmax(Y_pred, axis=1)"
      ],
      "execution_count": 20,
      "outputs": [
        {
          "output_type": "stream",
          "name": "stdout",
          "text": [
            "100/100 [==============================] - 0s 3ms/step\n",
            "[[9.9906689e-01 5.9854653e-02 1.0912608e-03 ... 2.5951442e-01\n",
            "  1.4703901e-01 1.4564692e-02]\n",
            " [9.9943089e-01 1.5230115e-01 3.2378390e-04 ... 2.6052395e-01\n",
            "  5.0317645e-01 3.1789201e-03]\n",
            " [9.1068250e-01 8.0263841e-01 4.2169003e-04 ... 5.9823710e-01\n",
            "  4.6834525e-02 6.9842166e-03]\n",
            " ...\n",
            " [2.7150951e-02 9.7668225e-01 1.4849089e-01 ... 1.3031462e-03\n",
            "  2.7758700e-03 4.7707412e-01]\n",
            " [1.1448774e-03 2.6336296e-03 5.1102787e-03 ... 7.9475745e-07\n",
            "  4.5288196e-01 9.9991417e-01]\n",
            " [1.1456207e-05 2.0091527e-05 2.3876399e-01 ... 6.2753731e-09\n",
            "  1.2617725e-01 9.9999785e-01]]\n",
            "[[1. 0. 0. ... 0. 0. 0.]\n",
            " [1. 0. 0. ... 0. 0. 0.]\n",
            " [1. 0. 0. ... 0. 0. 0.]\n",
            " ...\n",
            " [0. 0. 0. ... 0. 0. 1.]\n",
            " [0. 0. 0. ... 0. 0. 1.]\n",
            " [0. 0. 0. ... 0. 0. 1.]]\n"
          ]
        }
      ]
    },
    {
      "cell_type": "code",
      "metadata": {
        "colab": {
          "base_uri": "https://localhost:8080/"
        },
        "id": "f5Ch-xrcskOz",
        "outputId": "d1678843-1fd9-490c-c6ce-863e5334c554"
      },
      "source": [
        "from sklearn.metrics import classification_report, confusion_matrix\n",
        "\n",
        "y_pred = np.argmax(Y_pred, axis=1)\n",
        "y_true = np.argmax(Y_test, axis=1)\n",
        "\n",
        "print('Confusion Matrix')\n",
        "print(confusion_matrix(y_true, y_pred))\n",
        "print('Classification Report')\n",
        "target_names = ['0', '1', '2', '3', '4', '5', '6', '7', '8', '9']\n",
        "print(classification_report(y_true, y_pred, target_names=target_names))"
      ],
      "execution_count": 21,
      "outputs": [
        {
          "output_type": "stream",
          "name": "stdout",
          "text": [
            "Confusion Matrix\n",
            "[[1972    0    0    0    4   18    3    3    0    0]\n",
            " [   4 1969   11    0    3    0    7    3    1    2]\n",
            " [   0   34 1866   46   24    0   18    2    0   10]\n",
            " [   6    2  115 1789   75    0    8    2    0    3]\n",
            " [   6    5   22   76 1848   12   11    2    2   16]\n",
            " [   5    6    1    3   18 1945    4    8    9    1]\n",
            " [   4   13   24    3   18    6 1876   10    5   41]\n",
            " [  14    7   22    2    8   13   16 1918    0    0]\n",
            " [   6    3    5    0   18   10   12    0 1919   27]\n",
            " [   2   36   18    2    7    3   33    0   13 1886]]\n",
            "Classification Report\n",
            "              precision    recall  f1-score   support\n",
            "\n",
            "           0       0.98      0.99      0.98      2000\n",
            "           1       0.95      0.98      0.97      2000\n",
            "           2       0.90      0.93      0.91      2000\n",
            "           3       0.93      0.89      0.91      2000\n",
            "           4       0.91      0.92      0.92      2000\n",
            "           5       0.97      0.97      0.97      2000\n",
            "           6       0.94      0.94      0.94      2000\n",
            "           7       0.98      0.96      0.97      2000\n",
            "           8       0.98      0.96      0.97      2000\n",
            "           9       0.95      0.94      0.95      2000\n",
            "\n",
            "    accuracy                           0.95     20000\n",
            "   macro avg       0.95      0.95      0.95     20000\n",
            "weighted avg       0.95      0.95      0.95     20000\n",
            "\n"
          ]
        }
      ]
    },
    {
      "cell_type": "markdown",
      "source": [
        "## Loading the saved model"
      ],
      "metadata": {
        "id": "tKkwyDEJJPU1"
      }
    },
    {
      "cell_type": "code",
      "source": [
        "from tensorflow.keras.models import load_model\n",
        "model_load  = load_model('hoda.h5')"
      ],
      "metadata": {
        "id": "tlkjZii6A9XJ"
      },
      "execution_count": 22,
      "outputs": []
    },
    {
      "cell_type": "markdown",
      "source": [
        "## predict a sample image"
      ],
      "metadata": {
        "id": "tLmgUQtBn1lm"
      }
    },
    {
      "cell_type": "code",
      "source": [
        "# predict a sample image\n",
        "test_index = random.randint(0, len(X_test))\n",
        "plt.imshow(X_test[test_index].reshape(32,32))\n",
        "img2.set_title('Test')\n",
        "model_load.predict(X_test[test_index].reshape(1,1024)).argmax()"
      ],
      "metadata": {
        "id": "Qw-lQdWgwxHI",
        "colab": {
          "base_uri": "https://localhost:8080/",
          "height": 466
        },
        "outputId": "1caf9eb0-3e65-4f91-927c-3433074da5ec"
      },
      "execution_count": 23,
      "outputs": [
        {
          "output_type": "stream",
          "name": "stdout",
          "text": [
            "1/1 [==============================] - 0s 40ms/step\n"
          ]
        },
        {
          "output_type": "execute_result",
          "data": {
            "text/plain": [
              "2"
            ]
          },
          "metadata": {},
          "execution_count": 23
        },
        {
          "output_type": "display_data",
          "data": {
            "text/plain": [
              "<Figure size 640x480 with 1 Axes>"
            ],
            "image/png": "[encoded data removed]"
          },
          "metadata": {}
        }
      ]
    },
    {
      "cell_type": "markdown",
      "source": [
        "## predict an RGB sample image"
      ],
      "metadata": {
        "id": "ZCHFA0QznxbE"
      }
    },
    {
      "cell_type": "code",
      "source": [
        "#download sample handwritten Persian digits\n",
        "sample_url = 'https://raw.githubusercontent.com/aztofighi/Persian_Handwritten_Recognition/main/Samples/'\n",
        "for i in range(0,10):\n",
        "  urllib.request.urlretrieve(sample_url+str(i)+'sample.png', str(i)+'sample.png')"
      ],
      "metadata": {
        "id": "HWP2YJf1h74R"
      },
      "execution_count": 24,
      "outputs": []
    },
    {
      "cell_type": "code",
      "source": [
        "def classify_sample(model_name, file_name):\n",
        "  model_load  = load_model(model_name)\n",
        "  sample_img = cv2.imread(file_name, cv2.IMREAD_GRAYSCALE)\n",
        "  # Convert image to grayscale\n",
        "  img_blur = cv2.medianBlur(sample_img,5)\n",
        "  ret2,img_bin2 = cv2.threshold(img_blur,0,1,cv2.THRESH_BINARY+cv2.THRESH_OTSU)\n",
        "  # Invert binary image\n",
        "  img_bin2 = 1 - img_bin2\n",
        "  img_bin2 = img_bin2/255\n",
        "  # Find the outermost pixels\n",
        "  non_zero_pixels = cv2.findNonZero(img_bin2)\n",
        "  x, y, w, h = cv2.boundingRect(non_zero_pixels)\n",
        "  left = x\n",
        "  top = y\n",
        "  right = x + w\n",
        "  bottom = y + h\n",
        "\n",
        "  # Calculate the maximum dimension of the bounding rectangle\n",
        "  max_dim = max(right - left, bottom - top)\n",
        "\n",
        "  # Calculate padding to make the image square\n",
        "  padding = int((max_dim - min(w, h)) / 2)\n",
        "\n",
        "  # Add padding to the bounding rectangle\n",
        "  left -= padding\n",
        "  top -= padding\n",
        "  right += padding\n",
        "  bottom += padding\n",
        "\n",
        "  # Ensure the coordinates are within the image boundaries\n",
        "  left = max(0, left)\n",
        "  top = max(0, top)\n",
        "  right = min(img_bin2.shape[1], right)\n",
        "  bottom = min(img_bin2.shape[0], bottom)\n",
        "\n",
        "  # Crop the image to the bounding rectangle\n",
        "  cropped_image = img_bin2[top:bottom, left:right]\n",
        "\n",
        "  # Resize the image to 32x32 pixels\n",
        "  resized_image = cv2.resize(cropped_image, (32, 32))\n",
        "\n",
        "  resized_image = resized_image.astype('float32')\n",
        "  predicted_class = model_load.predict(resized_image.reshape(1,1024)).argmax()\n",
        "  return sample_img, resized_image, str(predicted_class)\n",
        "\n"
      ],
      "metadata": {
        "id": "Emc7p8MBZwlt"
      },
      "execution_count": 25,
      "outputs": []
    },
    {
      "cell_type": "code",
      "source": [
        "img_in, img_out, img_class = classify_sample('hoda.h5','4sample.png')\n",
        "print(\"Image Class: \" + img_class)\n",
        "# Plot the Train and Test data\n",
        "img1 = plt.subplot(221)\n",
        "img1.set_title('Sample')\n",
        "plt.imshow(img_in)\n",
        "img2 = plt.subplot(222)\n",
        "plt.imshow(img_out.reshape(32,32))\n",
        "img2.set_title('Sample Binary')\n",
        "plt.show()"
      ],
      "metadata": {
        "colab": {
          "base_uri": "https://localhost:8080/",
          "height": 287
        },
        "id": "oHUNMvY8meLz",
        "outputId": "ea9f76ff-8e5a-40f1-b59d-749cb1d7bbd5"
      },
      "execution_count": 26,
      "outputs": [
        {
          "output_type": "stream",
          "name": "stdout",
          "text": [
            "1/1 [==============================] - 0s 78ms/step\n",
            "Image Class: 4\n"
          ]
        },
        {
          "output_type": "display_data",
          "data": {
            "text/plain": [
              "<Figure size 640x480 with 2 Axes>"
            ],
            "image/png": "[encoded data removed]"
          },
          "metadata": {}
        }
      ]
    }
  ]
}