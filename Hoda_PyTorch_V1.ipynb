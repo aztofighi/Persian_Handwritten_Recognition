{
  "nbformat": 4,
  "nbformat_minor": 0,
  "metadata": {
    "colab": {
      "provenance": [],
      "gpuType": "T4",
      "include_colab_link": true
    },
    "kernelspec": {
      "name": "python3",
      "display_name": "Python 3"
    },
    "language_info": {
      "name": "python"
    },
    "accelerator": "GPU"
  },
  "cells": [
    {
      "cell_type": "markdown",
      "metadata": {
        "id": "view-in-github",
        "colab_type": "text"
      },
      "source": [
        "<a href=\"https://colab.research.google.com/github/aztofighi/Persian_Handwritten_Recognition/blob/main/Hoda_PyTorch_V1.ipynb\" target=\"_parent\"><img src=\"https://colab.research.google.com/assets/colab-badge.svg\" alt=\"Open In Colab\"/></a>"
      ]
    },
    {
      "cell_type": "code",
      "source": [
        "!wget -q https://github.com/aztofighi/Persian_Handwritten_Recognition/raw/main/Hoda_Dataset/Hoda_Test_20000.tar.gz\n",
        "!wget -q https://github.com/aztofighi/Persian_Handwritten_Recognition/raw/main/Hoda_Dataset/Hoda_Train_60000.tar.gz"
      ],
      "metadata": {
        "id": "v3vf-T-jfTow"
      },
      "execution_count": 1,
      "outputs": []
    },
    {
      "cell_type": "code",
      "source": [
        "!tar xf Hoda_Train_60000.tar.gz\n",
        "!tar xf Hoda_Test_20000.tar.gz"
      ],
      "metadata": {
        "id": "2NB7qfSbfu9a"
      },
      "execution_count": 2,
      "outputs": []
    },
    {
      "cell_type": "code",
      "source": [
        "import torch\n",
        "import torch.nn as nn\n",
        "import torch.optim as optim\n",
        "import torchvision\n",
        "import torchvision.transforms as transforms\n",
        "from torchvision.models import resnet50\n",
        "import matplotlib.pyplot as plt\n",
        "\n",
        "# Device configuration\n",
        "device = torch.device('cuda' if torch.cuda.is_available() else 'cpu')\n",
        "\n",
        "# Hyperparameters\n",
        "num_epochs = 2\n",
        "batch_size = 100\n",
        "learning_rate = 0.001\n",
        "\n",
        "# Data directories\n",
        "train_dir = 'Hoda_Train_60000'\n",
        "test_dir = 'Hoda_Test_20000'\n",
        "\n",
        "# Transformation for image resizing and normalization\n",
        "transform = transforms.Compose([\n",
        "    transforms.Resize((32, 32)),\n",
        "    transforms.ToTensor(),\n",
        "    transforms.Normalize((0.5, 0.5, 0.5), (0.5, 0.5, 0.5))\n",
        "])\n",
        "\n",
        "# Dataset loaders\n",
        "train_dataset = torchvision.datasets.ImageFolder(root=train_dir, transform=transform)\n",
        "test_dataset = torchvision.datasets.ImageFolder(root=test_dir, transform=transform)\n",
        "\n",
        "train_loader = torch.utils.data.DataLoader(dataset=train_dataset, batch_size=batch_size, shuffle=True)\n",
        "test_loader = torch.utils.data.DataLoader(dataset=test_dataset, batch_size=batch_size, shuffle=False)\n",
        "\n",
        "# ResNet model\n",
        "model = resnet50(pretrained=True)\n",
        "num_features = model.fc.in_features\n",
        "model.fc = nn.Linear(num_features, len(train_dataset.classes))\n",
        "model = model.to(device)\n",
        "\n",
        "# Loss and optimizer\n",
        "criterion = nn.CrossEntropyLoss()\n",
        "optimizer = optim.Adam(model.parameters(), lr=learning_rate)\n",
        "\n",
        "# Training loop\n",
        "total_step = len(train_loader)\n",
        "losses = []  # To store training loss for each epoch\n",
        "\n",
        "for epoch in range(num_epochs):\n",
        "    for i, (images, labels) in enumerate(train_loader):\n",
        "        images = images.to(device)\n",
        "        labels = labels.to(device)\n",
        "\n",
        "        # Forward pass\n",
        "        outputs = model(images)\n",
        "        loss = criterion(outputs, labels)\n",
        "\n",
        "        # Backward and optimize\n",
        "        optimizer.zero_grad()\n",
        "        loss.backward()\n",
        "        optimizer.step()\n",
        "\n",
        "        if (i + 1) % 100 == 0:\n",
        "            print('Epoch [{}/{}], Step [{}/{}], Loss: {:.4f}'\n",
        "                  .format(epoch + 1, num_epochs, i + 1, total_step, loss.item()))\n",
        "        \n",
        "        losses.append(loss.item())  # Store the training loss\n",
        "\n",
        "# Plotting the training loss\n",
        "plt.plot(losses)\n",
        "plt.xlabel('Iteration')\n",
        "plt.ylabel('Training Loss')\n",
        "plt.title('Training Loss')\n",
        "plt.show()\n",
        "\n",
        "# Test the model\n",
        "model.eval()\n",
        "with torch.no_grad():\n",
        "    correct = 0\n",
        "    total = 0\n",
        "    for images, labels in test_loader:\n",
        "        images = images.to(device)\n",
        "        labels = labels.to(device)\n",
        "        outputs = model(images)\n",
        "        _, predicted = torch.max(outputs.data, 1)\n",
        "        total += labels.size(0)\n",
        "        correct += (predicted == labels).sum().item()\n",
        "\n",
        "    print('Accuracy of the model on the test images: {:.2f} %'.format(100 * correct / total))\n"
      ],
      "metadata": {
        "colab": {
          "base_uri": "https://localhost:8080/",
          "height": 704
        },
        "id": "lO71qq6ZltKc",
        "outputId": "b4f82879-4cc3-48da-c364-e89240119543"
      },
      "execution_count": 15,
      "outputs": [
        {
          "output_type": "stream",
          "name": "stdout",
          "text": [
            "Epoch [1/2], Step [100/600], Loss: 0.1799\n",
            "Epoch [1/2], Step [200/600], Loss: 0.0049\n",
            "Epoch [1/2], Step [300/600], Loss: 0.1001\n",
            "Epoch [1/2], Step [400/600], Loss: 0.0200\n",
            "Epoch [1/2], Step [500/600], Loss: 0.0779\n",
            "Epoch [1/2], Step [600/600], Loss: 0.0008\n",
            "Epoch [2/2], Step [100/600], Loss: 0.0324\n",
            "Epoch [2/2], Step [200/600], Loss: 0.0017\n",
            "Epoch [2/2], Step [300/600], Loss: 0.0127\n",
            "Epoch [2/2], Step [400/600], Loss: 0.0237\n",
            "Epoch [2/2], Step [500/600], Loss: 0.0093\n",
            "Epoch [2/2], Step [600/600], Loss: 0.0005\n"
          ]
        },
        {
          "output_type": "display_data",
          "data": {
            "text/plain": [
              "<Figure size 640x480 with 1 Axes>"
            ],
            "image/png": "[encoded data removed]"
          },
          "metadata": {}
        },
        {
          "output_type": "stream",
          "name": "stdout",
          "text": [
            "Accuracy of the model on the test images: 99.14 %\n"
          ]
        }
      ]
    },
    {
      "cell_type": "code",
      "source": [
        "# Save the trained model\n",
        "checkpoint_dir = 'checkpoint'\n",
        "os.makedirs(checkpoint_dir, exist_ok=True)\n",
        "checkpoint_path = os.path.join(checkpoint_dir, 'resnet50_model.pth')\n",
        "torch.save(model.state_dict(), checkpoint_path)\n",
        "print(\"Trained model saved at:\", checkpoint_path)"
      ],
      "metadata": {
        "colab": {
          "base_uri": "https://localhost:8080/"
        },
        "id": "mgb380SOlwfo",
        "outputId": "782f356f-4aa1-4148-b846-f81460d18ef7"
      },
      "execution_count": 17,
      "outputs": [
        {
          "output_type": "stream",
          "name": "stdout",
          "text": [
            "Trained model saved at: checkpoint/resnet50_model.pth\n"
          ]
        }
      ]
    },
    {
      "cell_type": "code",
      "source": [
        "# Load the saved model\n",
        "checkpoint_path = 'checkpoint/resnet50_model.pth'\n",
        "model = resnet50(pretrained=True)\n",
        "num_features = model.fc.in_features\n",
        "model.fc = nn.Linear(num_features, 10)  # Assuming you have 10 classes\n",
        "model.load_state_dict(torch.load(checkpoint_path))\n",
        "model = model.to(device)\n",
        "model.eval()\n",
        "\n",
        "# Class labels\n",
        "class_labels = ['class_0', 'class_1', 'class_2', 'class_3', 'class_4', 'class_5', 'class_6', 'class_7', 'class_8', 'class_9']"
      ],
      "metadata": {
        "id": "iXapbXEtoBSb"
      },
      "execution_count": 18,
      "outputs": []
    },
    {
      "cell_type": "code",
      "source": [
        "from google.colab import files\n",
        "import io\n",
        "from PIL import Image\n",
        "from PIL import ImageOps\n",
        "from PIL import Image, ImageDraw, ImageFont\n",
        "import torch.nn.functional as F\n",
        "import torchvision.transforms as transforms\n",
        "from torchvision.models import resnet50\n",
        "from matplotlib.pyplot import imshow\n",
        "\n",
        "# Define the class labels\n",
        "class_labels = ['class_0', 'class_1', 'class_2', 'class_3', 'class_4', 'class_5', 'class_6', 'class_7', 'class_8', 'class_9']\n",
        "\n",
        "# Upload the image\n",
        "upload_widget = files.upload()\n",
        "\n",
        "# Load the pretrained model\n",
        "model = resnet50(weights=None)\n",
        "model.fc = torch.nn.Linear(2048, len(class_labels))\n",
        "model.load_state_dict(torch.load('checkpoint/resnet50_model.pth'))\n",
        "model = model.to(device)\n",
        "model.eval()\n",
        "\n",
        "# Process the uploaded image\n",
        "for filename, file_contents in upload_widget.items():\n",
        "    image = Image.open(io.BytesIO(file_contents)).convert('L')  # Convert to grayscale\n",
        "    image1 = image\n",
        "    image1.show()\n",
        "    print(\"Original Image\")\n",
        "\n",
        "    # Convert image to binary\n",
        "    binary_threshold = 128\n",
        "    image = image.point(lambda x: 0 if x < binary_threshold else 255)\n",
        "    \n",
        "    # Convert image to negative\n",
        "    image = Image.eval(image, lambda x: 255 - x)\n",
        "\n",
        "    # Display the negative image\n",
        "    image2 = image\n",
        "    image2.show()\n",
        "    print(\"Binary Image\")\n",
        "\n",
        "    # Find the outmost non-zero pixel\n",
        "    width, height = image.size\n",
        "    left, top, right, bottom = width, height, 0, 0\n",
        "    pixels = image.load()\n",
        "    for y in range(height):\n",
        "        for x in range(width):\n",
        "            if pixels[x, y] > 0:\n",
        "                left = min(left, x)\n",
        "                top = min(top, y)\n",
        "                right = max(right, x)\n",
        "                bottom = max(bottom, y)\n",
        "\n",
        "    # Crop the image to remove zero padding\n",
        "    image_centered = image.crop((left, top, right + 1, bottom + 1))\n",
        "    max_size = max(image_centered.size)\n",
        "\n",
        "\n",
        "    \n",
        " \n",
        "    image3 = image_centered\n",
        "    image3.show()\n",
        "    print(\"Centered Binary Image\")\n",
        "\n",
        "    # Find the minimum and maximum height and width of the image\n",
        "    min_size = min(image_centered.size)\n",
        "    max_size = max(image_centered.size)\n",
        "\n",
        "    # Calculate the padding size\n",
        "    padding_size = max_size - min_size\n",
        "\n",
        "    # Determine the side with the minimum size\n",
        "    if image_centered.width == min_size:\n",
        "        padding = (padding_size // 2, 0, padding_size - padding_size // 2, 0)  # Add padding horizontally\n",
        "    else:\n",
        "        padding = (0, padding_size // 2, 0, padding_size - padding_size // 2)  # Add padding vertically\n",
        "\n",
        "    # Apply zero padding to the image\n",
        "    padded_image = ImageOps.expand(image_centered, padding)\n",
        "\n",
        "    image4 = padded_image\n",
        "    image4.show()\n",
        "    print(\"Zero Padding Added To Binary Image\")\n",
        "\n",
        "    \n",
        "    # Resize the image while maintaining aspect ratio\n",
        "    resize_transform = transforms.Resize((32, 32))\n",
        "    resized_image = resize_transform(padded_image)\n",
        "\n",
        "    # Convert the image to RGB\n",
        "    rgb_image = resized_image.convert('RGB')\n",
        "    \n",
        "    # Convert the image to tensor and normalize\n",
        "    to_tensor_transform = transforms.ToTensor()\n",
        "    image_tensor = to_tensor_transform(rgb_image).unsqueeze(0).to(device)\n",
        "    image_tensor = (image_tensor - 0.5) / 0.5\n",
        "\n",
        "    # Forward pass through the model\n",
        "    with torch.no_grad():\n",
        "        output = model(image_tensor)\n",
        "\n",
        "    # Get the predicted class label\n",
        "    _, predicted_idx = torch.max(output, 1)\n",
        "    predicted_label = class_labels[predicted_idx.item()]\n",
        "\n",
        "    print(\"Predicted label:\", predicted_label)\n",
        "\n",
        "    # Stitch the images together\n",
        "    stitched_image = Image.new('RGB', (rgb_image.width * 8, rgb_image.height))\n",
        "    stitched_image.paste(image1.convert('RGB').resize((rgb_image.width, rgb_image.height)), (0, 0))\n",
        "    stitched_image.paste(image2.convert('RGB').resize((rgb_image.width, rgb_image.height)), (rgb_image.width * 1, 0))\n",
        "    stitched_image.paste(image3.convert('RGB').resize((rgb_image.width, rgb_image.height)), (rgb_image.width * 2, 0))\n",
        "    stitched_image.paste(image4.convert('RGB').resize((rgb_image.width, rgb_image.height)), (rgb_image.width * 3, 0))\n",
        "\n",
        "    # Create a new image with white background\n",
        "    image5 = Image.new(\"RGB\", (200, 100), (255, 255, 255))\n",
        "    # Create a draw object\n",
        "    draw = ImageDraw.Draw(image5)\n",
        "    # Define the font and text\n",
        "    font = ImageFont.load_default()\n",
        "    text = f\"Class: {predicted_label}\"\n",
        "    # Draw the text on the image\n",
        "    draw.text((20, 10), text, fill=(0,), font=font)\n",
        "    stitched_image.paste(image5.convert('RGB'), (rgb_image.width * 4, 0))\n",
        "\n",
        "\n",
        "    stitched_image = stitched_image.resize((stitched_image.width*2,stitched_image.height*2))\n",
        "\n",
        "\n",
        "    # Display the stitched image\n",
        "    stitched_image.show()\n"
      ],
      "metadata": {
        "colab": {
          "base_uri": "https://localhost:8080/",
          "height": 431
        },
        "id": "NVsUucmq21GY",
        "outputId": "8ed28ac2-9faa-414c-8155-656c70e32fdd"
      },
      "execution_count": 84,
      "outputs": [
        {
          "output_type": "display_data",
          "data": {
            "text/plain": [
              "<IPython.core.display.HTML object>"
            ],
            "text/html": [
              "\n",
              "     <input type=\"file\" id=\"files-88c15134-d482-452c-ae59-6c5c80d33e9a\" name=\"files[]\" multiple disabled\n",
              "        style=\"border:none\" />\n",
              "     <output id=\"result-88c15134-d482-452c-ae59-6c5c80d33e9a\">\n",
              "      Upload widget is only available when the cell has been executed in the\n",
              "      current browser session. Please rerun this cell to enable.\n",
              "      </output>\n",
              "      <script>// Copyright 2017 Google LLC\n",
              "//\n",
              "// Licensed under the Apache License, Version 2.0 (the \"License\");\n",
              "// you may not use this file except in compliance with the License.\n",
              "// You may obtain a copy of the License at\n",
              "//\n",
              "//      http://www.apache.org/licenses/LICENSE-2.0\n",
              "//\n",
              "// Unless required by applicable law or agreed to in writing, software\n",
              "// distributed under the License is distributed on an \"AS IS\" BASIS,\n",
              "// WITHOUT WARRANTIES OR CONDITIONS OF ANY KIND, either express or implied.\n",
              "// See the License for the specific language governing permissions and\n",
              "// limitations under the License.\n",
              "\n",
              "/**\n",
              " * @fileoverview Helpers for google.colab Python module.\n",
              " */\n",
              "(function(scope) {\n",
              "function span(text, styleAttributes = {}) {\n",
              "  const element = document.createElement('span');\n",
              "  element.textContent = text;\n",
              "  for (const key of Object.keys(styleAttributes)) {\n",
              "    element.style[key] = styleAttributes[key];\n",
              "  }\n",
              "  return element;\n",
              "}\n",
              "\n",
              "// Max number of bytes which will be uploaded at a time.\n",
              "const MAX_PAYLOAD_SIZE = 100 * 1024;\n",
              "\n",
              "function _uploadFiles(inputId, outputId) {\n",
              "  const steps = uploadFilesStep(inputId, outputId);\n",
              "  const outputElement = document.getElementById(outputId);\n",
              "  // Cache steps on the outputElement to make it available for the next call\n",
              "  // to uploadFilesContinue from Python.\n",
              "  outputElement.steps = steps;\n",
              "\n",
              "  return _uploadFilesContinue(outputId);\n",
              "}\n",
              "\n",
              "// This is roughly an async generator (not supported in the browser yet),\n",
              "// where there are multiple asynchronous steps and the Python side is going\n",
              "// to poll for completion of each step.\n",
              "// This uses a Promise to block the python side on completion of each step,\n",
              "// then passes the result of the previous step as the input to the next step.\n",
              "function _uploadFilesContinue(outputId) {\n",
              "  const outputElement = document.getElementById(outputId);\n",
              "  const steps = outputElement.steps;\n",
              "\n",
              "  const next = steps.next(outputElement.lastPromiseValue);\n",
              "  return Promise.resolve(next.value.promise).then((value) => {\n",
              "    // Cache the last promise value to make it available to the next\n",
              "    // step of the generator.\n",
              "    outputElement.lastPromiseValue = value;\n",
              "    return next.value.response;\n",
              "  });\n",
              "}\n",
              "\n",
              "/**\n",
              " * Generator function which is called between each async step of the upload\n",
              " * process.\n",
              " * @param {string} inputId Element ID of the input file picker element.\n",
              " * @param {string} outputId Element ID of the output display.\n",
              " * @return {!Iterable<!Object>} Iterable of next steps.\n",
              " */\n",
              "function* uploadFilesStep(inputId, outputId) {\n",
              "  const inputElement = document.getElementById(inputId);\n",
              "  inputElement.disabled = false;\n",
              "\n",
              "  const outputElement = document.getElementById(outputId);\n",
              "  outputElement.innerHTML = '';\n",
              "\n",
              "  const pickedPromise = new Promise((resolve) => {\n",
              "    inputElement.addEventListener('change', (e) => {\n",
              "      resolve(e.target.files);\n",
              "    });\n",
              "  });\n",
              "\n",
              "  const cancel = document.createElement('button');\n",
              "  inputElement.parentElement.appendChild(cancel);\n",
              "  cancel.textContent = 'Cancel upload';\n",
              "  const cancelPromise = new Promise((resolve) => {\n",
              "    cancel.onclick = () => {\n",
              "      resolve(null);\n",
              "    };\n",
              "  });\n",
              "\n",
              "  // Wait for the user to pick the files.\n",
              "  const files = yield {\n",
              "    promise: Promise.race([pickedPromise, cancelPromise]),\n",
              "    response: {\n",
              "      action: 'starting',\n",
              "    }\n",
              "  };\n",
              "\n",
              "  cancel.remove();\n",
              "\n",
              "  // Disable the input element since further picks are not allowed.\n",
              "  inputElement.disabled = true;\n",
              "\n",
              "  if (!files) {\n",
              "    return {\n",
              "      response: {\n",
              "        action: 'complete',\n",
              "      }\n",
              "    };\n",
              "  }\n",
              "\n",
              "  for (const file of files) {\n",
              "    const li = document.createElement('li');\n",
              "    li.append(span(file.name, {fontWeight: 'bold'}));\n",
              "    li.append(span(\n",
              "        `(${file.type || 'n/a'}) - ${file.size} bytes, ` +\n",
              "        `last modified: ${\n",
              "            file.lastModifiedDate ? file.lastModifiedDate.toLocaleDateString() :\n",
              "                                    'n/a'} - `));\n",
              "    const percent = span('0% done');\n",
              "    li.appendChild(percent);\n",
              "\n",
              "    outputElement.appendChild(li);\n",
              "\n",
              "    const fileDataPromise = new Promise((resolve) => {\n",
              "      const reader = new FileReader();\n",
              "      reader.onload = (e) => {\n",
              "        resolve(e.target.result);\n",
              "      };\n",
              "      reader.readAsArrayBuffer(file);\n",
              "    });\n",
              "    // Wait for the data to be ready.\n",
              "    let fileData = yield {\n",
              "      promise: fileDataPromise,\n",
              "      response: {\n",
              "        action: 'continue',\n",
              "      }\n",
              "    };\n",
              "\n",
              "    // Use a chunked sending to avoid message size limits. See b/62115660.\n",
              "    let position = 0;\n",
              "    do {\n",
              "      const length = Math.min(fileData.byteLength - position, MAX_PAYLOAD_SIZE);\n",
              "      const chunk = new Uint8Array(fileData, position, length);\n",
              "      position += length;\n",
              "\n",
              "      const base64 = btoa(String.fromCharCode.apply(null, chunk));\n",
              "      yield {\n",
              "        response: {\n",
              "          action: 'append',\n",
              "          file: file.name,\n",
              "          data: base64,\n",
              "        },\n",
              "      };\n",
              "\n",
              "      let percentDone = fileData.byteLength === 0 ?\n",
              "          100 :\n",
              "          Math.round((position / fileData.byteLength) * 100);\n",
              "      percent.textContent = `${percentDone}% done`;\n",
              "\n",
              "    } while (position < fileData.byteLength);\n",
              "  }\n",
              "\n",
              "  // All done.\n",
              "  yield {\n",
              "    response: {\n",
              "      action: 'complete',\n",
              "    }\n",
              "  };\n",
              "}\n",
              "\n",
              "scope.google = scope.google || {};\n",
              "scope.google.colab = scope.google.colab || {};\n",
              "scope.google.colab._files = {\n",
              "  _uploadFiles,\n",
              "  _uploadFilesContinue,\n",
              "};\n",
              "})(self);\n",
              "</script> "
            ]
          },
          "metadata": {}
        },
        {
          "output_type": "stream",
          "name": "stdout",
          "text": [
            "Saving 9sample.png to 9sample.png\n"
          ]
        },
        {
          "output_type": "display_data",
          "data": {
            "text/plain": [
              "<PIL.Image.Image image mode=L size=76x74 at 0x7FBC2B6DBB80>"
            ],
            "image/png": "[encoded data removed]"
          },
          "metadata": {}
        },
        {
          "output_type": "stream",
          "name": "stdout",
          "text": [
            "Original Image\n"
          ]
        },
        {
          "output_type": "display_data",
          "data": {
            "text/plain": [
              "<PIL.Image.Image image mode=L size=76x74 at 0x7FBC2B6DAFE0>"
            ],
            "image/png": "[encoded data removed]"
          },
          "metadata": {}
        },
        {
          "output_type": "stream",
          "name": "stdout",
          "text": [
            "Binary Image\n"
          ]
        },
        {
          "output_type": "display_data",
          "data": {
            "text/plain": [
              "<PIL.Image.Image image mode=L size=21x28 at 0x7FBC2B6DB010>"
            ],
            "image/png": "[encoded data removed]"
          },
          "metadata": {}
        },
        {
          "output_type": "stream",
          "name": "stdout",
          "text": [
            "Centered Binary Image\n"
          ]
        },
        {
          "output_type": "display_data",
          "data": {
            "text/plain": [
              "<PIL.Image.Image image mode=L size=28x28 at 0x7FBC2B6DA620>"
            ],
            "image/png": "[encoded data removed]"
          },
          "metadata": {}
        },
        {
          "output_type": "stream",
          "name": "stdout",
          "text": [
            "Zero Padding Added To Binary Image\n",
            "Predicted label: class_9\n"
          ]
        },
        {
          "output_type": "display_data",
          "data": {
            "text/plain": [
              "<PIL.Image.Image image mode=RGB size=512x64 at 0x7FBC2B6DA680>"
            ],
            "image/png": "[encoded data removed]"
          },
          "metadata": {}
        }
      ]
    }
  ]
}